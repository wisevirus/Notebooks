{
  "nbformat": 4,
  "nbformat_minor": 0,
  "metadata": {
    "kernelspec": {
      "display_name": "Python 3",
      "language": "python",
      "name": "python3"
    },
    "language_info": {
      "codemirror_mode": {
        "name": "ipython",
        "version": 3
      },
      "file_extension": ".py",
      "mimetype": "text/x-python",
      "name": "python",
      "nbconvert_exporter": "python",
      "pygments_lexer": "ipython3",
      "version": "3.7.3"
    },
    "colab": {
      "name": "Visualization.ipynb",
      "provenance": []
    }
  },
  "cells": [
    {
      "cell_type": "code",
      "metadata": {
        "id": "4Fxr9hiCy3q7",
        "colab_type": "code",
        "colab": {}
      },
      "source": [
        "import pandas as pd\n",
        "import altair as alt\n",
        "from altair import datum\n",
        "import numpy as np"
      ],
      "execution_count": 0,
      "outputs": []
    },
    {
      "cell_type": "code",
      "metadata": {
        "id": "_M9Qu9zJy3q_",
        "colab_type": "code",
        "colab": {
          "resources": {
            "http://localhost:8080/nbextensions/google.colab/files.js": {
              "data": "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",
              "ok": true,
              "headers": [
                [
                  "content-type",
                  "application/javascript"
                ]
              ],
              "status": 200,
              "status_text": ""
            }
          },
          "base_uri": "https://localhost:8080/",
          "height": 74
        },
        "outputId": "c67e40cb-b5db-4b14-9c1d-2a589be705b9"
      },
      "source": [
        "from google.colab import files\n",
        "uploaded = files.upload()"
      ],
      "execution_count": 4,
      "outputs": [
        {
          "output_type": "display_data",
          "data": {
            "text/html": [
              "\n",
              "     <input type=\"file\" id=\"files-b05fbb75-89af-4b62-a444-90fbc5f48a8c\" name=\"files[]\" multiple disabled />\n",
              "     <output id=\"result-b05fbb75-89af-4b62-a444-90fbc5f48a8c\">\n",
              "      Upload widget is only available when the cell has been executed in the\n",
              "      current browser session. Please rerun this cell to enable.\n",
              "      </output>\n",
              "      <script src=\"/nbextensions/google.colab/files.js\"></script> "
            ],
            "text/plain": [
              "<IPython.core.display.HTML object>"
            ]
          },
          "metadata": {
            "tags": []
          }
        },
        {
          "output_type": "stream",
          "text": [
            "Saving population_prospects (2).csv to population_prospects (2).csv\n"
          ],
          "name": "stdout"
        }
      ]
    },
    {
      "cell_type": "code",
      "metadata": {
        "id": "aL0ZZi6vz4Ep",
        "colab_type": "code",
        "colab": {
          "base_uri": "https://localhost:8080/",
          "height": 357
        },
        "outputId": "030ade7f-7034-431a-a00a-52f4667b3cf2"
      },
      "source": [
        "df = pd.read_csv('population_prospects (2).csv')\n",
        "df.head(10)"
      ],
      "execution_count": 8,
      "outputs": [
        {
          "output_type": "execute_result",
          "data": {
            "text/html": [
              "<div>\n",
              "<style scoped>\n",
              "    .dataframe tbody tr th:only-of-type {\n",
              "        vertical-align: middle;\n",
              "    }\n",
              "\n",
              "    .dataframe tbody tr th {\n",
              "        vertical-align: top;\n",
              "    }\n",
              "\n",
              "    .dataframe thead th {\n",
              "        text-align: right;\n",
              "    }\n",
              "</style>\n",
              "<table border=\"1\" class=\"dataframe\">\n",
              "  <thead>\n",
              "    <tr style=\"text-align: right;\">\n",
              "      <th></th>\n",
              "      <th>year</th>\n",
              "      <th>population</th>\n",
              "      <th>type</th>\n",
              "    </tr>\n",
              "  </thead>\n",
              "  <tbody>\n",
              "    <tr>\n",
              "      <th>0</th>\n",
              "      <td>1950</td>\n",
              "      <td>37297.640</td>\n",
              "      <td>estimate</td>\n",
              "    </tr>\n",
              "    <tr>\n",
              "      <th>1</th>\n",
              "      <td>1951</td>\n",
              "      <td>37815.540</td>\n",
              "      <td>estimate</td>\n",
              "    </tr>\n",
              "    <tr>\n",
              "      <th>2</th>\n",
              "      <td>1952</td>\n",
              "      <td>38360.078</td>\n",
              "      <td>estimate</td>\n",
              "    </tr>\n",
              "    <tr>\n",
              "      <th>3</th>\n",
              "      <td>1953</td>\n",
              "      <td>38915.814</td>\n",
              "      <td>estimate</td>\n",
              "    </tr>\n",
              "    <tr>\n",
              "      <th>4</th>\n",
              "      <td>1954</td>\n",
              "      <td>39471.403</td>\n",
              "      <td>estimate</td>\n",
              "    </tr>\n",
              "    <tr>\n",
              "      <th>5</th>\n",
              "      <td>1955</td>\n",
              "      <td>40019.483</td>\n",
              "      <td>estimate</td>\n",
              "    </tr>\n",
              "    <tr>\n",
              "      <th>6</th>\n",
              "      <td>1956</td>\n",
              "      <td>40557.034</td>\n",
              "      <td>estimate</td>\n",
              "    </tr>\n",
              "    <tr>\n",
              "      <th>7</th>\n",
              "      <td>1957</td>\n",
              "      <td>41085.019</td>\n",
              "      <td>estimate</td>\n",
              "    </tr>\n",
              "    <tr>\n",
              "      <th>8</th>\n",
              "      <td>1958</td>\n",
              "      <td>41607.893</td>\n",
              "      <td>estimate</td>\n",
              "    </tr>\n",
              "    <tr>\n",
              "      <th>9</th>\n",
              "      <td>1959</td>\n",
              "      <td>42132.440</td>\n",
              "      <td>estimate</td>\n",
              "    </tr>\n",
              "  </tbody>\n",
              "</table>\n",
              "</div>"
            ],
            "text/plain": [
              "   year  population      type\n",
              "0  1950   37297.640  estimate\n",
              "1  1951   37815.540  estimate\n",
              "2  1952   38360.078  estimate\n",
              "3  1953   38915.814  estimate\n",
              "4  1954   39471.403  estimate\n",
              "5  1955   40019.483  estimate\n",
              "6  1956   40557.034  estimate\n",
              "7  1957   41085.019  estimate\n",
              "8  1958   41607.893  estimate\n",
              "9  1959   42132.440  estimate"
            ]
          },
          "metadata": {
            "tags": []
          },
          "execution_count": 8
        }
      ]
    },
    {
      "cell_type": "code",
      "metadata": {
        "id": "oABlUn4Ky3rC",
        "colab_type": "code",
        "colab": {
          "base_uri": "https://localhost:8080/",
          "height": 34
        },
        "outputId": "761a9bdf-9a19-4598-d913-5892432b42aa"
      },
      "source": [
        "df.columns"
      ],
      "execution_count": 14,
      "outputs": [
        {
          "output_type": "execute_result",
          "data": {
            "text/plain": [
              "Index(['year', 'population', 'type'], dtype='object')"
            ]
          },
          "metadata": {
            "tags": []
          },
          "execution_count": 14
        }
      ]
    },
    {
      "cell_type": "markdown",
      "metadata": {
        "id": "xwMP7SQZy3rE",
        "colab_type": "text"
      },
      "source": [
        "# **Points** - Additional levels of detail for grouping data in aggregate views and in line, trail, and area marks without mapping data to a specific visual channel."
      ]
    },
    {
      "cell_type": "code",
      "metadata": {
        "id": "bXitqJ4Ny3rE",
        "colab_type": "code",
        "colab": {}
      },
      "source": [
        "# Styles used:\n",
        "BLUE = '#3288bd'\n",
        "RED = '#d53e4f'\n",
        "GRAY = '#5D646F'\n",
        "GRID_COLOR = '#5D646F'\n",
        "BG_COLOR = '#F3F7F7'\n",
        "\n",
        "FONT_FAMILY = 'Ubuntu Mono'\n",
        "\n",
        "TITLE_FONT_SIZE = 30\n",
        "SUBTITLE_FONT_SIZE = 18\n",
        "AXIS_FONT_SIZE = 13"
      ],
      "execution_count": 0,
      "outputs": []
    },
    {
      "cell_type": "code",
      "metadata": {
        "id": "G3kygzOdy3rG",
        "colab_type": "code",
        "colab": {
          "base_uri": "https://localhost:8080/",
          "height": 895
        },
        "outputId": "3da3aaf3-5b69-422f-ab84-829c825253ba"
      },
      "source": [
        "years = [1950, 1991, 2020, 2100]\n",
        "variant_types = ['medium variant', 'high variant', 'low variant']\n",
        "other_types = ['estimate', 'constant fertility', 'instant replacement', 'momentum','zero migration', 'constant mortality', 'no change']\n",
        "\n",
        "estimate = alt.Chart(df, title=\"Ukraine Population Prospects\", width=1000, height=650).mark_line(color=BLUE,strokeWidth=3).encode(\n",
        "    x = alt.X('year:Q', axis = alt.Axis(values=years, \n",
        "                              title= \"Data: UN World Population Prospects\", \n",
        "                              titleFont=FONT_FAMILY,\n",
        "                              titleFontSize=AXIS_FONT_SIZE,\n",
        "                              titleFontWeight='normal',\n",
        "                              titleColor=GRAY,\n",
        "                              titleAlign='right',\n",
        "                              labelColor=GRAY,\n",
        "                              titleBaseline='top',\n",
        "                              titleAngle=0, \n",
        "                              titleY=35, \n",
        "                              titleX= 1100,\n",
        "                              domain=False,\n",
        "                              domainDash=[3,3],\n",
        "                              gridDash=[3,3],\n",
        "                              tickDash=[3,3],\n",
        "                              tickColor=\"lightGray\",\n",
        "                              tickMinStep=5),\n",
        "              scale = alt.Scale(domain = (years[0],years[-1]))),\n",
        "    y = alt.Y('population', axis = alt.Axis(title= \"Total population, million\",\n",
        "                              titleFont=FONT_FAMILY,\n",
        "                              titleFontSize=SUBTITLE_FONT_SIZE,\n",
        "                              titleFontWeight='normal',\n",
        "                              titleColor=GRAY,\n",
        "                              labelColor=GRAY,\n",
        "                              titleAlign='right',\n",
        "                              titleAngle=0,\n",
        "                              titleY=-25, \n",
        "                              titleX= 200,\n",
        "                              domain=False,\n",
        "                              domainDash=[3,3],\n",
        "                              domainColor=\"lightGray\",\n",
        "                              gridDash=[3,3],\n",
        "                              tickDash=[3,3],\n",
        "                              tickColor=\"lightGray\",\n",
        "                              tickMinStep=5),\n",
        "              scale = alt.Scale(domain = (15,55))),).transform_filter(datum.type == 'estimate',)\n",
        "\n",
        "projection = alt.Chart(df).mark_line(strokeDash=[5,5], color=RED,strokeWidth=3).encode(\n",
        "    x = alt.X('year:Q', axis = alt.Axis(values=years), scale = alt.Scale(domain = (years[0],years[-1]))),\n",
        "    y = alt.Y('population',scale = alt.Scale(domain = (15,55))),\n",
        "    detail = 'type'\n",
        ").transform_filter(\n",
        "    datum.type != 'estimate'\n",
        ")\n",
        "text1 = alt.Chart(df).mark_text(dy=-1,dx=10, align='left',baseline='middle',color=RED, fontWeight='bold', fontSize=13).encode(\n",
        "    text = alt.Text('type'),\n",
        "    x = alt.X('year'),\n",
        "    y = alt.Y('population',scale = alt.Scale(domain = (15,55))),\n",
        "    detail = 'type'\n",
        ").transform_filter(\n",
        "    datum.year == 2100\n",
        ").transform_filter(alt.FieldOneOfPredicate(field='type', oneOf=variant_types))\n",
        "\n",
        "text2 = alt.Chart(df).mark_text(dx=10, align='left',baseline='top',fontSize=13).encode(\n",
        "    text = 'type:N',\n",
        "    x = alt.X('year'),\n",
        "    y = alt.Y('population',scale = alt.Scale(domain = (15,55))),\n",
        "    detail = 'type'\n",
        ").transform_filter(\n",
        "    datum.year == 2100 \n",
        ").transform_filter(alt.FieldOneOfPredicate(field='type', oneOf=other_types))\n",
        "\n",
        "text3 = alt.Chart(df).mark_text(color=BLUE,fontSize=13).encode(\n",
        "    text =  alt.value('estimate'),\n",
        "    x = alt.value(320),\n",
        "    y = alt.value(-10),)\n",
        "text4 = alt.Chart(df).mark_text(color=RED,fontSize=13).encode(\n",
        "    text =  alt.value('projection'),\n",
        "    x = alt.value(720),\n",
        "    y = alt.value(-10),)\n",
        "(estimate + projection +text1 + text2 + text3 + text4).transform_calculate(population = datum.population / 1000).properties(\n",
        "    background=BG_COLOR).configure(padding={\"left\": 50, \"top\": 50, \"right\": 50, \"bottom\": 50}).configure_title(anchor='start',color=GRAY,font=FONT_FAMILY,fontSize=TITLE_FONT_SIZE).configure_view(strokeWidth=0)\n"
      ],
      "execution_count": 23,
      "outputs": [
        {
          "output_type": "execute_result",
          "data": {
            "text/plain": [
              "alt.LayerChart(...)"
            ],
            "text/html": [
              "<!DOCTYPE html>\n",
              "<html>\n",
              "<head>\n",
              "  <style>\n",
              "    .vega-actions a {\n",
              "        margin-right: 12px;\n",
              "        color: #757575;\n",
              "        font-weight: normal;\n",
              "        font-size: 13px;\n",
              "    }\n",
              "    .error {\n",
              "        color: red;\n",
              "    }\n",
              "  </style>\n",
              "  <script type=\"text/javascript\" src=\"https://cdn.jsdelivr.net/npm//vega@5\"></script>\n",
              "  <script type=\"text/javascript\" src=\"https://cdn.jsdelivr.net/npm//vega-lite@3.4.0\"></script>\n",
              "  <script type=\"text/javascript\" src=\"https://cdn.jsdelivr.net/npm//vega-embed@4\"></script>\n",
              "</head>\n",
              "<body>\n",
              "  <div id=\"altair-viz\"></div>\n",
              "  <script>\n",
              "    (function(vegaEmbed) {\n",
              "      var spec = {\"config\": {\"view\": {\"width\": 400, \"height\": 300, \"strokeWidth\": 0}, \"mark\": {\"tooltip\": null}, \"padding\": {\"left\": 50, \"top\": 50, \"right\": 50, \"bottom\": 50}, \"title\": {\"anchor\": \"start\", \"color\": \"#5D646F\", \"font\": \"Ubuntu Mono\", \"fontSize\": 30}}, \"layer\": [{\"mark\": {\"type\": \"line\", \"color\": \"#3288bd\", \"strokeWidth\": 3}, \"encoding\": {\"x\": {\"type\": \"quantitative\", \"axis\": {\"domain\": false, \"domainDash\": [3, 3], \"gridDash\": [3, 3], \"labelColor\": \"#5D646F\", \"tickColor\": \"lightGray\", \"tickDash\": [3, 3], \"tickMinStep\": 5, \"title\": \"Data: UN World Population Prospects\", \"titleAlign\": \"right\", \"titleAngle\": 0, \"titleBaseline\": \"top\", \"titleColor\": \"#5D646F\", \"titleFont\": \"Ubuntu Mono\", \"titleFontSize\": 13, \"titleFontWeight\": \"normal\", \"titleX\": 1100, \"titleY\": 35, \"values\": [1950, 1991, 2020, 2100]}, \"field\": \"year\", \"scale\": {\"domain\": [1950, 2100]}}, \"y\": {\"type\": \"quantitative\", \"axis\": {\"domain\": false, \"domainColor\": \"lightGray\", \"domainDash\": [3, 3], \"gridDash\": [3, 3], \"labelColor\": \"#5D646F\", \"tickColor\": \"lightGray\", \"tickDash\": [3, 3], \"tickMinStep\": 5, \"title\": \"Total population, million\", \"titleAlign\": \"right\", \"titleAngle\": 0, \"titleColor\": \"#5D646F\", \"titleFont\": \"Ubuntu Mono\", \"titleFontSize\": 18, \"titleFontWeight\": \"normal\", \"titleX\": 200, \"titleY\": -25}, \"field\": \"population\", \"scale\": {\"domain\": [15, 55]}}}, \"height\": 650, \"title\": \"Ukraine Population Prospects\", \"transform\": [{\"filter\": \"(datum.type === 'estimate')\"}], \"width\": 1000}, {\"mark\": {\"type\": \"line\", \"color\": \"#d53e4f\", \"strokeDash\": [5, 5], \"strokeWidth\": 3}, \"encoding\": {\"detail\": {\"type\": \"nominal\", \"field\": \"type\"}, \"x\": {\"type\": \"quantitative\", \"axis\": {\"values\": [1950, 1991, 2020, 2100]}, \"field\": \"year\", \"scale\": {\"domain\": [1950, 2100]}}, \"y\": {\"type\": \"quantitative\", \"field\": \"population\", \"scale\": {\"domain\": [15, 55]}}}, \"transform\": [{\"filter\": \"(datum.type !== 'estimate')\"}]}, {\"mark\": {\"type\": \"text\", \"align\": \"left\", \"baseline\": \"middle\", \"color\": \"#d53e4f\", \"dx\": 10, \"dy\": -1, \"fontSize\": 13, \"fontWeight\": \"bold\"}, \"encoding\": {\"detail\": {\"type\": \"nominal\", \"field\": \"type\"}, \"text\": {\"type\": \"nominal\", \"field\": \"type\"}, \"x\": {\"type\": \"quantitative\", \"field\": \"year\"}, \"y\": {\"type\": \"quantitative\", \"field\": \"population\", \"scale\": {\"domain\": [15, 55]}}}, \"transform\": [{\"filter\": \"(datum.year === 2100)\"}, {\"filter\": {\"field\": \"type\", \"oneOf\": [\"medium variant\", \"high variant\", \"low variant\"]}}]}, {\"mark\": {\"type\": \"text\", \"align\": \"left\", \"baseline\": \"top\", \"dx\": 10, \"fontSize\": 13}, \"encoding\": {\"detail\": {\"type\": \"nominal\", \"field\": \"type\"}, \"text\": {\"type\": \"nominal\", \"field\": \"type\"}, \"x\": {\"type\": \"quantitative\", \"field\": \"year\"}, \"y\": {\"type\": \"quantitative\", \"field\": \"population\", \"scale\": {\"domain\": [15, 55]}}}, \"transform\": [{\"filter\": \"(datum.year === 2100)\"}, {\"filter\": {\"field\": \"type\", \"oneOf\": [\"estimate\", \"constant fertility\", \"instant replacement\", \"momentum\", \"zero migration\", \"constant mortality\", \"no change\"]}}]}, {\"mark\": {\"type\": \"text\", \"color\": \"#3288bd\", \"fontSize\": 13}, \"encoding\": {\"text\": {\"value\": \"estimate\"}, \"x\": {\"value\": 320}, \"y\": {\"value\": -10}}}, {\"mark\": {\"type\": \"text\", \"color\": \"#d53e4f\", \"fontSize\": 13}, \"encoding\": {\"text\": {\"value\": \"projection\"}, \"x\": {\"value\": 720}, \"y\": {\"value\": -10}}}], \"background\": \"#F3F7F7\", \"data\": {\"name\": \"data-9a1bab0aa4fe57a534f6810a4e9ed30f\"}, \"transform\": [{\"calculate\": \"(datum.population / 1000)\", \"as\": \"population\"}], \"$schema\": \"https://vega.github.io/schema/vega-lite/v3.4.0.json\", \"datasets\": {\"data-9a1bab0aa4fe57a534f6810a4e9ed30f\": [{\"year\": 1950, \"population\": 37297.64, \"type\": \"estimate\"}, {\"year\": 1951, \"population\": 37815.54, \"type\": \"estimate\"}, {\"year\": 1952, \"population\": 38360.078, \"type\": \"estimate\"}, {\"year\": 1953, \"population\": 38915.814, \"type\": \"estimate\"}, {\"year\": 1954, \"population\": 39471.403, \"type\": \"estimate\"}, {\"year\": 1955, \"population\": 40019.483, \"type\": \"estimate\"}, {\"year\": 1956, \"population\": 40557.034, \"type\": \"estimate\"}, {\"year\": 1957, \"population\": 41085.019, \"type\": \"estimate\"}, {\"year\": 1958, \"population\": 41607.893, \"type\": \"estimate\"}, {\"year\": 1959, \"population\": 42132.44, \"type\": \"estimate\"}, {\"year\": 1960, \"population\": 42664.64599999999, \"type\": \"estimate\"}, {\"year\": 1961, \"population\": 43206.352999999996, \"type\": \"estimate\"}, {\"year\": 1962, \"population\": 43752.227, \"type\": \"estimate\"}, {\"year\": 1963, \"population\": 44288.607, \"type\": \"estimate\"}, {\"year\": 1964, \"population\": 44796.959, \"type\": \"estimate\"}, {\"year\": 1965, \"population\": 45264.552, \"type\": \"estimate\"}, {\"year\": 1966, \"population\": 45684.983, \"type\": \"estimate\"}, {\"year\": 1967, \"population\": 46063.219000000005, \"type\": \"estimate\"}, {\"year\": 1968, \"population\": 46411.816, \"type\": \"estimate\"}, {\"year\": 1969, \"population\": 46749.289000000004, \"type\": \"estimate\"}, {\"year\": 1970, \"population\": 47088.862, \"type\": \"estimate\"}, {\"year\": 1971, \"population\": 47435.008, \"type\": \"estimate\"}, {\"year\": 1972, \"population\": 47783.005999999994, \"type\": \"estimate\"}, {\"year\": 1973, \"population\": 48125.829000000005, \"type\": \"estimate\"}, {\"year\": 1974, \"population\": 48452.623, \"type\": \"estimate\"}, {\"year\": 1975, \"population\": 48755.662000000004, \"type\": \"estimate\"}, {\"year\": 1976, \"population\": 49032.72900000001, \"type\": \"estimate\"}, {\"year\": 1977, \"population\": 49287.117999999995, \"type\": \"estimate\"}, {\"year\": 1978, \"population\": 49523.304000000004, \"type\": \"estimate\"}, {\"year\": 1979, \"population\": 49747.998, \"type\": \"estimate\"}, {\"year\": 1980, \"population\": 49965.872, \"type\": \"estimate\"}, {\"year\": 1981, \"population\": 50176.399000000005, \"type\": \"estimate\"}, {\"year\": 1982, \"population\": 50377.069, \"type\": \"estimate\"}, {\"year\": 1983, \"population\": 50568.025, \"type\": \"estimate\"}, {\"year\": 1984, \"population\": 50749.176, \"type\": \"estimate\"}, {\"year\": 1985, \"population\": 50919.275, \"type\": \"estimate\"}, {\"year\": 1986, \"population\": 51077.457, \"type\": \"estimate\"}, {\"year\": 1987, \"population\": 51219.91099999999, \"type\": \"estimate\"}, {\"year\": 1988, \"population\": 51338.392, \"type\": \"estimate\"}, {\"year\": 1989, \"population\": 51422.337999999996, \"type\": \"estimate\"}, {\"year\": 1990, \"population\": 51463.100999999995, \"type\": \"estimate\"}, {\"year\": 1991, \"population\": 51461.273, \"type\": \"estimate\"}, {\"year\": 1992, \"population\": 51415.957, \"type\": \"estimate\"}, {\"year\": 1993, \"population\": 51316.013, \"type\": \"estimate\"}, {\"year\": 1994, \"population\": 51147.77099999999, \"type\": \"estimate\"}, {\"year\": 1995, \"population\": 50903.782999999996, \"type\": \"estimate\"}, {\"year\": 1996, \"population\": 50580.467000000004, \"type\": \"estimate\"}, {\"year\": 1997, \"population\": 50187.28, \"type\": \"estimate\"}, {\"year\": 1998, \"population\": 49746.523, \"type\": \"estimate\"}, {\"year\": 1999, \"population\": 49288.739, \"type\": \"estimate\"}, {\"year\": 2000, \"population\": 48838.058, \"type\": \"estimate\"}, {\"year\": 2001, \"population\": 48401.648, \"type\": \"estimate\"}, {\"year\": 2002, \"population\": 47980.032999999996, \"type\": \"estimate\"}, {\"year\": 2003, \"population\": 47582.462999999996, \"type\": \"estimate\"}, {\"year\": 2004, \"population\": 47217.489, \"type\": \"estimate\"}, {\"year\": 2005, \"population\": 46890.775, \"type\": \"estimate\"}, {\"year\": 2006, \"population\": 46607.397000000004, \"type\": \"estimate\"}, {\"year\": 2007, \"population\": 46366.347, \"type\": \"estimate\"}, {\"year\": 2008, \"population\": 46158.709, \"type\": \"estimate\"}, {\"year\": 2009, \"population\": 45970.942, \"type\": \"estimate\"}, {\"year\": 2010, \"population\": 45792.085999999996, \"type\": \"estimate\"}, {\"year\": 2011, \"population\": 45619.85, \"type\": \"estimate\"}, {\"year\": 2012, \"population\": 45453.805, \"type\": \"estimate\"}, {\"year\": 2013, \"population\": 45286.988, \"type\": \"estimate\"}, {\"year\": 2014, \"population\": 45111.53, \"type\": \"estimate\"}, {\"year\": 2015, \"population\": 44921.636, \"type\": \"estimate\"}, {\"year\": 2016, \"population\": 44713.708, \"type\": \"estimate\"}, {\"year\": 2017, \"population\": 44487.708, \"type\": \"estimate\"}, {\"year\": 2018, \"population\": 44246.157999999996, \"type\": \"estimate\"}, {\"year\": 2019, \"population\": 43993.643, \"type\": \"estimate\"}, {\"year\": 2020, \"population\": 43733.759000000005, \"type\": \"estimate\"}, {\"year\": 2020, \"population\": 43733.759000000005, \"type\": \"medium variant\"}, {\"year\": 2021, \"population\": 43466.822, \"type\": \"medium variant\"}, {\"year\": 2022, \"population\": 43192.12, \"type\": \"medium variant\"}, {\"year\": 2023, \"population\": 42911.306, \"type\": \"medium variant\"}, {\"year\": 2024, \"population\": 42626.269, \"type\": \"medium variant\"}, {\"year\": 2025, \"population\": 42338.58900000001, \"type\": \"medium variant\"}, {\"year\": 2026, \"population\": 42049.21599999999, \"type\": \"medium variant\"}, {\"year\": 2027, \"population\": 41758.643, \"type\": \"medium variant\"}, {\"year\": 2028, \"population\": 41467.225, \"type\": \"medium variant\"}, {\"year\": 2029, \"population\": 41175.058, \"type\": \"medium variant\"}, {\"year\": 2030, \"population\": 40882.333, \"type\": \"medium variant\"}, {\"year\": 2031, \"population\": 40589.437000000005, \"type\": \"medium variant\"}, {\"year\": 2032, \"population\": 40296.88, \"type\": \"medium variant\"}, {\"year\": 2033, \"population\": 40005.067, \"type\": \"medium variant\"}, {\"year\": 2034, \"population\": 39714.398, \"type\": \"medium variant\"}, {\"year\": 2035, \"population\": 39425.165, \"type\": \"medium variant\"}, {\"year\": 2036, \"population\": 39137.598, \"type\": \"medium variant\"}, {\"year\": 2037, \"population\": 38851.724, \"type\": \"medium variant\"}, {\"year\": 2038, \"population\": 38567.427, \"type\": \"medium variant\"}, {\"year\": 2039, \"population\": 38284.416, \"type\": \"medium variant\"}, {\"year\": 2040, \"population\": 38002.49, \"type\": \"medium variant\"}, {\"year\": 2041, \"population\": 37721.611000000004, \"type\": \"medium variant\"}, {\"year\": 2042, \"population\": 37441.747, \"type\": \"medium variant\"}, {\"year\": 2043, \"population\": 37162.735, \"type\": \"medium variant\"}, {\"year\": 2044, \"population\": 36884.349, \"type\": \"medium variant\"}, {\"year\": 2045, \"population\": 36606.383, \"type\": \"medium variant\"}, {\"year\": 2046, \"population\": 36328.74, \"type\": \"medium variant\"}, {\"year\": 2047, \"population\": 36051.336, \"type\": \"medium variant\"}, {\"year\": 2048, \"population\": 35774.011, \"type\": \"medium variant\"}, {\"year\": 2049, \"population\": 35496.632000000005, \"type\": \"medium variant\"}, {\"year\": 2050, \"population\": 35219.046, \"type\": \"medium variant\"}, {\"year\": 2051, \"population\": 34941.24, \"type\": \"medium variant\"}, {\"year\": 2052, \"population\": 34663.197, \"type\": \"medium variant\"}, {\"year\": 2053, \"population\": 34384.751000000004, \"type\": \"medium variant\"}, {\"year\": 2054, \"population\": 34105.732, \"type\": \"medium variant\"}, {\"year\": 2055, \"population\": 33826.061, \"type\": \"medium variant\"}, {\"year\": 2056, \"population\": 33545.778, \"type\": \"medium variant\"}, {\"year\": 2057, \"population\": 33265.074, \"type\": \"medium variant\"}, {\"year\": 2058, \"population\": 32984.191, \"type\": \"medium variant\"}, {\"year\": 2059, \"population\": 32703.478, \"type\": \"medium variant\"}, {\"year\": 2060, \"population\": 32423.255, \"type\": \"medium variant\"}, {\"year\": 2061, \"population\": 32143.782000000003, \"type\": \"medium variant\"}, {\"year\": 2062, \"population\": 31865.328999999998, \"type\": \"medium variant\"}, {\"year\": 2063, \"population\": 31588.343999999997, \"type\": \"medium variant\"}, {\"year\": 2064, \"population\": 31313.304, \"type\": \"medium variant\"}, {\"year\": 2065, \"population\": 31040.686, \"type\": \"medium variant\"}, {\"year\": 2066, \"population\": 30770.827999999998, \"type\": \"medium variant\"}, {\"year\": 2067, \"population\": 30504.096, \"type\": \"medium variant\"}, {\"year\": 2068, \"population\": 30240.979, \"type\": \"medium variant\"}, {\"year\": 2069, \"population\": 29982.052000000003, \"type\": \"medium variant\"}, {\"year\": 2070, \"population\": 29727.777000000002, \"type\": \"medium variant\"}, {\"year\": 2071, \"population\": 29478.455, \"type\": \"medium variant\"}, {\"year\": 2072, \"population\": 29234.37, \"type\": \"medium variant\"}, {\"year\": 2073, \"population\": 28995.894, \"type\": \"medium variant\"}, {\"year\": 2074, \"population\": 28763.392000000003, \"type\": \"medium variant\"}, {\"year\": 2075, \"population\": 28537.156000000003, \"type\": \"medium variant\"}, {\"year\": 2076, \"population\": 28317.332000000002, \"type\": \"medium variant\"}, {\"year\": 2077, \"population\": 28103.952999999998, \"type\": \"medium variant\"}, {\"year\": 2078, \"population\": 27897.082000000002, \"type\": \"medium variant\"}, {\"year\": 2079, \"population\": 27696.728, \"type\": \"medium variant\"}, {\"year\": 2080, \"population\": 27502.824, \"type\": \"medium variant\"}, {\"year\": 2081, \"population\": 27315.267999999996, \"type\": \"medium variant\"}, {\"year\": 2082, \"population\": 27133.861, \"type\": \"medium variant\"}, {\"year\": 2083, \"population\": 26958.197, \"type\": \"medium variant\"}, {\"year\": 2084, \"population\": 26787.772, \"type\": \"medium variant\"}, {\"year\": 2085, \"population\": 26622.097999999998, \"type\": \"medium variant\"}, {\"year\": 2086, \"population\": 26460.882999999998, \"type\": \"medium variant\"}, {\"year\": 2087, \"population\": 26303.784, \"type\": \"medium variant\"}, {\"year\": 2088, \"population\": 26150.178, \"type\": \"medium variant\"}, {\"year\": 2089, \"population\": 25999.366, \"type\": \"medium variant\"}, {\"year\": 2090, \"population\": 25850.732999999997, \"type\": \"medium variant\"}, {\"year\": 2091, \"population\": 25703.826, \"type\": \"medium variant\"}, {\"year\": 2092, \"population\": 25558.328999999998, \"type\": \"medium variant\"}, {\"year\": 2093, \"population\": 25413.992000000002, \"type\": \"medium variant\"}, {\"year\": 2094, \"population\": 25270.622000000003, \"type\": \"medium variant\"}, {\"year\": 2095, \"population\": 25127.984, \"type\": \"medium variant\"}, {\"year\": 2096, \"population\": 24985.775, \"type\": \"medium variant\"}, {\"year\": 2097, \"population\": 24843.662, \"type\": \"medium variant\"}, {\"year\": 2098, \"population\": 24701.22, \"type\": \"medium variant\"}, {\"year\": 2099, \"population\": 24557.994, \"type\": \"medium variant\"}, {\"year\": 2100, \"population\": 24413.452, \"type\": \"medium variant\"}, {\"year\": 2020, \"population\": 43733.759000000005, \"type\": \"high variant\"}, {\"year\": 2021, \"population\": 43510.982, \"type\": \"high variant\"}, {\"year\": 2022, \"population\": 43292.86, \"type\": \"high variant\"}, {\"year\": 2023, \"population\": 43078.59099999999, \"type\": \"high variant\"}, {\"year\": 2024, \"population\": 42867.59, \"type\": \"high variant\"}, {\"year\": 2025, \"population\": 42659.52, \"type\": \"high variant\"}, {\"year\": 2026, \"population\": 42454.279, \"type\": \"high variant\"}, {\"year\": 2027, \"population\": 42252.03400000001, \"type\": \"high variant\"}, {\"year\": 2028, \"population\": 42053.13, \"type\": \"high variant\"}, {\"year\": 2029, \"population\": 41858.049, \"type\": \"high variant\"}, {\"year\": 2030, \"population\": 41667.187999999995, \"type\": \"high variant\"}, {\"year\": 2031, \"population\": 41480.667, \"type\": \"high variant\"}, {\"year\": 2032, \"population\": 41298.117999999995, \"type\": \"high variant\"}, {\"year\": 2033, \"population\": 41118.601, \"type\": \"high variant\"}, {\"year\": 2034, \"population\": 40940.865, \"type\": \"high variant\"}, {\"year\": 2035, \"population\": 40763.98, \"type\": \"high variant\"}, {\"year\": 2036, \"population\": 40587.641, \"type\": \"high variant\"}, {\"year\": 2037, \"population\": 40412.036, \"type\": \"high variant\"}, {\"year\": 2038, \"population\": 40237.542, \"type\": \"high variant\"}, {\"year\": 2039, \"population\": 40064.686, \"type\": \"high variant\"}, {\"year\": 2040, \"population\": 39893.925, \"type\": \"high variant\"}, {\"year\": 2041, \"population\": 39725.356, \"type\": \"high variant\"}, {\"year\": 2042, \"population\": 39558.893, \"type\": \"high variant\"}, {\"year\": 2043, \"population\": 39394.7, \"type\": \"high variant\"}, {\"year\": 2044, \"population\": 39232.946, \"type\": \"high variant\"}, {\"year\": 2045, \"population\": 39073.785, \"type\": \"high variant\"}, {\"year\": 2046, \"population\": 38917.317, \"type\": \"high variant\"}, {\"year\": 2047, \"population\": 38763.66, \"type\": \"high variant\"}, {\"year\": 2048, \"population\": 38612.927, \"type\": \"high variant\"}, {\"year\": 2049, \"population\": 38465.247, \"type\": \"high variant\"}, {\"year\": 2050, \"population\": 38320.726, \"type\": \"high variant\"}, {\"year\": 2051, \"population\": 38179.494, \"type\": \"high variant\"}, {\"year\": 2052, \"population\": 38041.629, \"type\": \"high variant\"}, {\"year\": 2053, \"population\": 37907.094, \"type\": \"high variant\"}, {\"year\": 2054, \"population\": 37775.811, \"type\": \"high variant\"}, {\"year\": 2055, \"population\": 37647.762, \"type\": \"high variant\"}, {\"year\": 2056, \"population\": 37523.022000000004, \"type\": \"high variant\"}, {\"year\": 2057, \"population\": 37401.732, \"type\": \"high variant\"}, {\"year\": 2058, \"population\": 37284.041, \"type\": \"high variant\"}, {\"year\": 2059, \"population\": 37170.198, \"type\": \"high variant\"}, {\"year\": 2060, \"population\": 37060.356, \"type\": \"high variant\"}, {\"year\": 2061, \"population\": 36954.714, \"type\": \"high variant\"}, {\"year\": 2062, \"population\": 36853.399, \"type\": \"high variant\"}, {\"year\": 2063, \"population\": 36756.507000000005, \"type\": \"high variant\"}, {\"year\": 2064, \"population\": 36664.105, \"type\": \"high variant\"}, {\"year\": 2065, \"population\": 36576.312000000005, \"type\": \"high variant\"}, {\"year\": 2066, \"population\": 36493.326, \"type\": \"high variant\"}, {\"year\": 2067, \"population\": 36415.372, \"type\": \"high variant\"}, {\"year\": 2068, \"population\": 36342.79, \"type\": \"high variant\"}, {\"year\": 2069, \"population\": 36275.917, \"type\": \"high variant\"}, {\"year\": 2070, \"population\": 36215.116, \"type\": \"high variant\"}, {\"year\": 2071, \"population\": 36160.568, \"type\": \"high variant\"}, {\"year\": 2072, \"population\": 36112.487, \"type\": \"high variant\"}, {\"year\": 2073, \"population\": 36071.32, \"type\": \"high variant\"}, {\"year\": 2074, \"population\": 36037.48, \"type\": \"high variant\"}, {\"year\": 2075, \"population\": 36011.351, \"type\": \"high variant\"}, {\"year\": 2076, \"population\": 35993.059, \"type\": \"high variant\"}, {\"year\": 2077, \"population\": 35982.66, \"type\": \"high variant\"}, {\"year\": 2078, \"population\": 35980.359, \"type\": \"high variant\"}, {\"year\": 2079, \"population\": 35986.339, \"type\": \"high variant\"}, {\"year\": 2080, \"population\": 36000.687000000005, \"type\": \"high variant\"}, {\"year\": 2081, \"population\": 36023.347, \"type\": \"high variant\"}, {\"year\": 2082, \"population\": 36054.128, \"type\": \"high variant\"}, {\"year\": 2083, \"population\": 36092.706, \"type\": \"high variant\"}, {\"year\": 2084, \"population\": 36138.643, \"type\": \"high variant\"}, {\"year\": 2085, \"population\": 36191.506, \"type\": \"high variant\"}, {\"year\": 2086, \"population\": 36251.001000000004, \"type\": \"high variant\"}, {\"year\": 2087, \"population\": 36316.761, \"type\": \"high variant\"}, {\"year\": 2088, \"population\": 36388.148, \"type\": \"high variant\"}, {\"year\": 2089, \"population\": 36464.468, \"type\": \"high variant\"}, {\"year\": 2090, \"population\": 36545.037000000004, \"type\": \"high variant\"}, {\"year\": 2091, \"population\": 36629.342000000004, \"type\": \"high variant\"}, {\"year\": 2092, \"population\": 36716.933, \"type\": \"high variant\"}, {\"year\": 2093, \"population\": 36807.456, \"type\": \"high variant\"}, {\"year\": 2094, \"population\": 36900.529, \"type\": \"high variant\"}, {\"year\": 2095, \"population\": 36995.732, \"type\": \"high variant\"}, {\"year\": 2096, \"population\": 37092.587999999996, \"type\": \"high variant\"}, {\"year\": 2097, \"population\": 37190.558, \"type\": \"high variant\"}, {\"year\": 2098, \"population\": 37288.994, \"type\": \"high variant\"}, {\"year\": 2099, \"population\": 37387.212999999996, \"type\": \"high variant\"}, {\"year\": 2100, \"population\": 37484.422, \"type\": \"high variant\"}, {\"year\": 2020, \"population\": 43733.759000000005, \"type\": \"low variant\"}, {\"year\": 2021, \"population\": 43416.407, \"type\": \"low variant\"}, {\"year\": 2022, \"population\": 43083.77099999999, \"type\": \"low variant\"}, {\"year\": 2023, \"population\": 42738.389, \"type\": \"low variant\"}, {\"year\": 2024, \"population\": 42382.422, \"type\": \"low variant\"}, {\"year\": 2025, \"population\": 42017.66099999999, \"type\": \"low variant\"}, {\"year\": 2026, \"population\": 41645.446, \"type\": \"low variant\"}, {\"year\": 2027, \"population\": 41266.779, \"type\": \"low variant\"}, {\"year\": 2028, \"population\": 40882.304, \"type\": \"low variant\"}, {\"year\": 2029, \"population\": 40492.407, \"type\": \"low variant\"}, {\"year\": 2030, \"population\": 40097.479, \"type\": \"low variant\"}, {\"year\": 2031, \"population\": 39698.166, \"type\": \"low variant\"}, {\"year\": 2032, \"population\": 39295.592000000004, \"type\": \"low variant\"}, {\"year\": 2033, \"population\": 38891.5, \"type\": \"low variant\"}, {\"year\": 2034, \"population\": 38487.917, \"type\": \"low variant\"}, {\"year\": 2035, \"population\": 38086.355, \"type\": \"low variant\"}, {\"year\": 2036, \"population\": 37687.672999999995, \"type\": \"low variant\"}, {\"year\": 2037, \"population\": 37291.812000000005, \"type\": \"low variant\"}, {\"year\": 2038, \"population\": 36898.282999999996, \"type\": \"low variant\"}, {\"year\": 2039, \"population\": 36506.108, \"type\": \"low variant\"}, {\"year\": 2040, \"population\": 36114.527, \"type\": \"low variant\"}, {\"year\": 2041, \"population\": 35723.487, \"type\": \"low variant\"}, {\"year\": 2042, \"population\": 35333.164, \"type\": \"low variant\"}, {\"year\": 2043, \"population\": 34943.284, \"type\": \"low variant\"}, {\"year\": 2044, \"population\": 34553.496, \"type\": \"low variant\"}, {\"year\": 2045, \"population\": 34163.522000000004, \"type\": \"low variant\"}, {\"year\": 2046, \"population\": 33773.167, \"type\": \"low variant\"}, {\"year\": 2047, \"population\": 33382.263, \"type\": \"low variant\"}, {\"year\": 2048, \"population\": 32990.592000000004, \"type\": \"low variant\"}, {\"year\": 2049, \"population\": 32597.89, \"type\": \"low variant\"}, {\"year\": 2050, \"population\": 32203.978, \"type\": \"low variant\"}, {\"year\": 2051, \"population\": 31808.765, \"type\": \"low variant\"}, {\"year\": 2052, \"population\": 31412.18, \"type\": \"low variant\"}, {\"year\": 2053, \"population\": 31013.982999999997, \"type\": \"low variant\"}, {\"year\": 2054, \"population\": 30613.917, \"type\": \"low variant\"}, {\"year\": 2055, \"population\": 30211.842999999997, \"type\": \"low variant\"}, {\"year\": 2056, \"population\": 29807.811, \"type\": \"low variant\"}, {\"year\": 2057, \"population\": 29401.982000000004, \"type\": \"low variant\"}, {\"year\": 2058, \"population\": 28994.603, \"type\": \"low variant\"}, {\"year\": 2059, \"population\": 28585.959, \"type\": \"low variant\"}, {\"year\": 2060, \"population\": 28176.402000000002, \"type\": \"low variant\"}, {\"year\": 2061, \"population\": 27766.202, \"type\": \"low variant\"}, {\"year\": 2062, \"population\": 27355.716, \"type\": \"low variant\"}, {\"year\": 2063, \"population\": 26945.52, \"type\": \"low variant\"}, {\"year\": 2064, \"population\": 26536.297000000002, \"type\": \"low variant\"}, {\"year\": 2065, \"population\": 26128.688, \"type\": \"low variant\"}, {\"year\": 2066, \"population\": 25723.141, \"type\": \"low variant\"}, {\"year\": 2067, \"population\": 25320.076, \"type\": \"low variant\"}, {\"year\": 2068, \"population\": 24920.132, \"type\": \"low variant\"}, {\"year\": 2069, \"population\": 24524.034, \"type\": \"low variant\"}, {\"year\": 2070, \"population\": 24132.394, \"type\": \"low variant\"}, {\"year\": 2071, \"population\": 23745.606, \"type\": \"low variant\"}, {\"year\": 2072, \"population\": 23364.022, \"type\": \"low variant\"}, {\"year\": 2073, \"population\": 22988.125, \"type\": \"low variant\"}, {\"year\": 2074, \"population\": 22618.387000000002, \"type\": \"low variant\"}, {\"year\": 2075, \"population\": 22255.182999999997, \"type\": \"low variant\"}, {\"year\": 2076, \"population\": 21898.712000000003, \"type\": \"low variant\"}, {\"year\": 2077, \"population\": 21549.09, \"type\": \"low variant\"}, {\"year\": 2078, \"population\": 21206.401, \"type\": \"low variant\"}, {\"year\": 2079, \"population\": 20870.681, \"type\": \"low variant\"}, {\"year\": 2080, \"population\": 20541.871, \"type\": \"low variant\"}, {\"year\": 2081, \"population\": 20219.939, \"type\": \"low variant\"}, {\"year\": 2082, \"population\": 19904.689, \"type\": \"low variant\"}, {\"year\": 2083, \"population\": 19595.76, \"type\": \"low variant\"}, {\"year\": 2084, \"population\": 19292.657, \"type\": \"low variant\"}, {\"year\": 2085, \"population\": 18994.908, \"type\": \"low variant\"}, {\"year\": 2086, \"population\": 18702.258, \"type\": \"low variant\"}, {\"year\": 2087, \"population\": 18414.391, \"type\": \"low variant\"}, {\"year\": 2088, \"population\": 18130.689, \"type\": \"low variant\"}, {\"year\": 2089, \"population\": 17850.409, \"type\": \"low variant\"}, {\"year\": 2090, \"population\": 17572.918, \"type\": \"low variant\"}, {\"year\": 2091, \"population\": 17297.806, \"type\": \"low variant\"}, {\"year\": 2092, \"population\": 17024.823, \"type\": \"low variant\"}, {\"year\": 2093, \"population\": 16753.821, \"type\": \"low variant\"}, {\"year\": 2094, \"population\": 16484.707, \"type\": \"low variant\"}, {\"year\": 2095, \"population\": 16217.317, \"type\": \"low variant\"}, {\"year\": 2096, \"population\": 15951.448999999999, \"type\": \"low variant\"}, {\"year\": 2097, \"population\": 15686.865, \"type\": \"low variant\"}, {\"year\": 2098, \"population\": 15423.223, \"type\": \"low variant\"}, {\"year\": 2099, \"population\": 15160.101, \"type\": \"low variant\"}, {\"year\": 2100, \"population\": 14897.041000000001, \"type\": \"low variant\"}, {\"year\": 2020, \"population\": 43733.759000000005, \"type\": \"constant fertility\"}, {\"year\": 2021, \"population\": 43468.429000000004, \"type\": \"constant fertility\"}, {\"year\": 2022, \"population\": 43196.458, \"type\": \"constant fertility\"}, {\"year\": 2023, \"population\": 42918.754, \"type\": \"constant fertility\"}, {\"year\": 2024, \"population\": 42636.085, \"type\": \"constant fertility\"}, {\"year\": 2025, \"population\": 42349.115999999995, \"type\": \"constant fertility\"}, {\"year\": 2026, \"population\": 42058.4, \"type\": \"constant fertility\"}, {\"year\": 2027, \"population\": 41764.378, \"type\": \"constant fertility\"}, {\"year\": 2028, \"population\": 41467.393, \"type\": \"constant fertility\"}, {\"year\": 2029, \"population\": 41167.703, \"type\": \"constant fertility\"}, {\"year\": 2030, \"population\": 40865.574, \"type\": \"constant fertility\"}, {\"year\": 2031, \"population\": 40561.282999999996, \"type\": \"constant fertility\"}, {\"year\": 2032, \"population\": 40255.305, \"type\": \"constant fertility\"}, {\"year\": 2033, \"population\": 39948.147000000004, \"type\": \"constant fertility\"}, {\"year\": 2034, \"population\": 39640.482, \"type\": \"constant fertility\"}, {\"year\": 2035, \"population\": 39332.772000000004, \"type\": \"constant fertility\"}, {\"year\": 2036, \"population\": 39025.342000000004, \"type\": \"constant fertility\"}, {\"year\": 2037, \"population\": 38718.235, \"type\": \"constant fertility\"}, {\"year\": 2038, \"population\": 38411.388999999996, \"type\": \"constant fertility\"}, {\"year\": 2039, \"population\": 38104.601, \"type\": \"constant fertility\"}, {\"year\": 2040, \"population\": 37797.717000000004, \"type\": \"constant fertility\"}, {\"year\": 2041, \"population\": 37490.765, \"type\": \"constant fertility\"}, {\"year\": 2042, \"population\": 37183.79, \"type\": \"constant fertility\"}, {\"year\": 2043, \"population\": 36876.725, \"type\": \"constant fertility\"}, {\"year\": 2044, \"population\": 36569.456, \"type\": \"constant fertility\"}, {\"year\": 2045, \"population\": 36261.878, \"type\": \"constant fertility\"}, {\"year\": 2046, \"population\": 35953.943999999996, \"type\": \"constant fertility\"}, {\"year\": 2047, \"population\": 35645.598, \"type\": \"constant fertility\"}, {\"year\": 2048, \"population\": 35336.756, \"type\": \"constant fertility\"}, {\"year\": 2049, \"population\": 35027.324, \"type\": \"constant fertility\"}, {\"year\": 2050, \"population\": 34717.2, \"type\": \"constant fertility\"}, {\"year\": 2051, \"population\": 34406.415, \"type\": \"constant fertility\"}, {\"year\": 2052, \"population\": 34094.911, \"type\": \"constant fertility\"}, {\"year\": 2053, \"population\": 33782.498999999996, \"type\": \"constant fertility\"}, {\"year\": 2054, \"population\": 33468.985, \"type\": \"constant fertility\"}, {\"year\": 2055, \"population\": 33154.217000000004, \"type\": \"constant fertility\"}, {\"year\": 2056, \"population\": 32838.237, \"type\": \"constant fertility\"}, {\"year\": 2057, \"population\": 32521.205, \"type\": \"constant fertility\"}, {\"year\": 2058, \"population\": 32203.249, \"type\": \"constant fertility\"}, {\"year\": 2059, \"population\": 31884.549, \"type\": \"constant fertility\"}, {\"year\": 2060, \"population\": 31565.349, \"type\": \"constant fertility\"}, {\"year\": 2061, \"population\": 31245.839, \"type\": \"constant fertility\"}, {\"year\": 2062, \"population\": 30926.295, \"type\": \"constant fertility\"}, {\"year\": 2063, \"population\": 30607.119, \"type\": \"constant fertility\"}, {\"year\": 2064, \"population\": 30288.784, \"type\": \"constant fertility\"}, {\"year\": 2065, \"population\": 29971.74, \"type\": \"constant fertility\"}, {\"year\": 2066, \"population\": 29656.325, \"type\": \"constant fertility\"}, {\"year\": 2067, \"population\": 29342.907000000003, \"type\": \"constant fertility\"}, {\"year\": 2068, \"population\": 29031.993, \"type\": \"constant fertility\"}, {\"year\": 2069, \"population\": 28724.145, \"type\": \"constant fertility\"}, {\"year\": 2070, \"population\": 28419.882, \"type\": \"constant fertility\"}, {\"year\": 2071, \"population\": 28119.506, \"type\": \"constant fertility\"}, {\"year\": 2072, \"population\": 27823.342, \"type\": \"constant fertility\"}, {\"year\": 2073, \"population\": 27531.882999999998, \"type\": \"constant fertility\"}, {\"year\": 2074, \"population\": 27245.627, \"type\": \"constant fertility\"}, {\"year\": 2075, \"population\": 26965.025, \"type\": \"constant fertility\"}, {\"year\": 2076, \"population\": 26690.227000000003, \"type\": \"constant fertility\"}, {\"year\": 2077, \"population\": 26421.337000000003, \"type\": \"constant fertility\"}, {\"year\": 2078, \"population\": 26158.45, \"type\": \"constant fertility\"}, {\"year\": 2079, \"population\": 25901.599, \"type\": \"constant fertility\"}, {\"year\": 2080, \"population\": 25650.756, \"type\": \"constant fertility\"}, {\"year\": 2081, \"population\": 25405.846, \"type\": \"constant fertility\"}, {\"year\": 2082, \"population\": 25166.706000000002, \"type\": \"constant fertility\"}, {\"year\": 2083, \"population\": 24932.996, \"type\": \"constant fertility\"}, {\"year\": 2084, \"population\": 24704.279, \"type\": \"constant fertility\"}, {\"year\": 2085, \"population\": 24480.107999999997, \"type\": \"constant fertility\"}, {\"year\": 2086, \"population\": 24260.24, \"type\": \"constant fertility\"}, {\"year\": 2087, \"population\": 24044.304, \"type\": \"constant fertility\"}, {\"year\": 2088, \"population\": 23831.627, \"type\": \"constant fertility\"}, {\"year\": 2089, \"population\": 23621.423, \"type\": \"constant fertility\"}, {\"year\": 2090, \"population\": 23413.019, \"type\": \"constant fertility\"}, {\"year\": 2091, \"population\": 23205.912, \"type\": \"constant fertility\"}, {\"year\": 2092, \"population\": 22999.813, \"type\": \"constant fertility\"}, {\"year\": 2093, \"population\": 22794.476000000002, \"type\": \"constant fertility\"}, {\"year\": 2094, \"population\": 22589.756, \"type\": \"constant fertility\"}, {\"year\": 2095, \"population\": 22385.39, \"type\": \"constant fertility\"}, {\"year\": 2096, \"population\": 22181.096, \"type\": \"constant fertility\"}, {\"year\": 2097, \"population\": 21976.506, \"type\": \"constant fertility\"}, {\"year\": 2098, \"population\": 21771.13, \"type\": \"constant fertility\"}, {\"year\": 2099, \"population\": 21564.46, \"type\": \"constant fertility\"}, {\"year\": 2100, \"population\": 21355.851000000002, \"type\": \"constant fertility\"}, {\"year\": 2020, \"population\": 43733.759000000005, \"type\": \"instant replacement\"}, {\"year\": 2021, \"population\": 43580.45, \"type\": \"instant replacement\"}, {\"year\": 2022, \"population\": 43466.269, \"type\": \"instant replacement\"}, {\"year\": 2023, \"population\": 43375.901, \"type\": \"instant replacement\"}, {\"year\": 2024, \"population\": 43286.687000000005, \"type\": \"instant replacement\"}, {\"year\": 2025, \"population\": 43181.990999999995, \"type\": \"instant replacement\"}, {\"year\": 2026, \"population\": 43057.297, \"type\": \"instant replacement\"}, {\"year\": 2027, \"population\": 42917.167, \"type\": \"instant replacement\"}, {\"year\": 2028, \"population\": 42764.869000000006, \"type\": \"instant replacement\"}, {\"year\": 2029, \"population\": 42606.768, \"type\": \"instant replacement\"}, {\"year\": 2030, \"population\": 42447.572, \"type\": \"instant replacement\"}, {\"year\": 2031, \"population\": 42287.439000000006, \"type\": \"instant replacement\"}, {\"year\": 2032, \"population\": 42124.597, \"type\": \"instant replacement\"}, {\"year\": 2033, \"population\": 41959.867999999995, \"type\": \"instant replacement\"}, {\"year\": 2034, \"population\": 41794.046, \"type\": \"instant replacement\"}, {\"year\": 2035, \"population\": 41627.887, \"type\": \"instant replacement\"}, {\"year\": 2036, \"population\": 41462.079, \"type\": \"instant replacement\"}, {\"year\": 2037, \"population\": 41297.162000000004, \"type\": \"instant replacement\"}, {\"year\": 2038, \"population\": 41133.583, \"type\": \"instant replacement\"}, {\"year\": 2039, \"population\": 40971.712999999996, \"type\": \"instant replacement\"}, {\"year\": 2040, \"population\": 40811.949, \"type\": \"instant replacement\"}, {\"year\": 2041, \"population\": 40654.635, \"type\": \"instant replacement\"}, {\"year\": 2042, \"population\": 40500.271, \"type\": \"instant replacement\"}, {\"year\": 2043, \"population\": 40349.595, \"type\": \"instant replacement\"}, {\"year\": 2044, \"population\": 40203.441, \"type\": \"instant replacement\"}, {\"year\": 2045, \"population\": 40062.405, \"type\": \"instant replacement\"}, {\"year\": 2046, \"population\": 39926.786, \"type\": \"instant replacement\"}, {\"year\": 2047, \"population\": 39796.61, \"type\": \"instant replacement\"}, {\"year\": 2048, \"population\": 39671.873999999996, \"type\": \"instant replacement\"}, {\"year\": 2049, \"population\": 39552.459, \"type\": \"instant replacement\"}, {\"year\": 2050, \"population\": 39438.227, \"type\": \"instant replacement\"}, {\"year\": 2051, \"population\": 39329.162000000004, \"type\": \"instant replacement\"}, {\"year\": 2052, \"population\": 39225.096, \"type\": \"instant replacement\"}, {\"year\": 2053, \"population\": 39125.449, \"type\": \"instant replacement\"}, {\"year\": 2054, \"population\": 39029.416, \"type\": \"instant replacement\"}, {\"year\": 2055, \"population\": 38936.347, \"type\": \"instant replacement\"}, {\"year\": 2056, \"population\": 38846.023, \"type\": \"instant replacement\"}, {\"year\": 2057, \"population\": 38758.301, \"type\": \"instant replacement\"}, {\"year\": 2058, \"population\": 38672.805, \"type\": \"instant replacement\"}, {\"year\": 2059, \"population\": 38589.127, \"type\": \"instant replacement\"}, {\"year\": 2060, \"population\": 38506.965, \"type\": \"instant replacement\"}, {\"year\": 2061, \"population\": 38426.276, \"type\": \"instant replacement\"}, {\"year\": 2062, \"population\": 38347.07, \"type\": \"instant replacement\"}, {\"year\": 2063, \"population\": 38269.266, \"type\": \"instant replacement\"}, {\"year\": 2064, \"population\": 38192.77, \"type\": \"instant replacement\"}, {\"year\": 2065, \"population\": 38117.676, \"type\": \"instant replacement\"}, {\"year\": 2066, \"population\": 38044.102999999996, \"type\": \"instant replacement\"}, {\"year\": 2067, \"population\": 37972.45, \"type\": \"instant replacement\"}, {\"year\": 2068, \"population\": 37903.439, \"type\": \"instant replacement\"}, {\"year\": 2069, \"population\": 37838.013999999996, \"type\": \"instant replacement\"}, {\"year\": 2070, \"population\": 37777.011, \"type\": \"instant replacement\"}, {\"year\": 2071, \"population\": 37720.778, \"type\": \"instant replacement\"}, {\"year\": 2072, \"population\": 37669.711, \"type\": \"instant replacement\"}, {\"year\": 2073, \"population\": 37624.724, \"type\": \"instant replacement\"}, {\"year\": 2074, \"population\": 37586.872, \"type\": \"instant replacement\"}, {\"year\": 2075, \"population\": 37556.93, \"type\": \"instant replacement\"}, {\"year\": 2076, \"population\": 37535.262, \"type\": \"instant replacement\"}, {\"year\": 2077, \"population\": 37521.962999999996, \"type\": \"instant replacement\"}, {\"year\": 2078, \"population\": 37517.2, \"type\": \"instant replacement\"}, {\"year\": 2079, \"population\": 37521.042, \"type\": \"instant replacement\"}, {\"year\": 2080, \"population\": 37533.461, \"type\": \"instant replacement\"}, {\"year\": 2081, \"population\": 37554.38, \"type\": \"instant replacement\"}, {\"year\": 2082, \"population\": 37583.536, \"type\": \"instant replacement\"}, {\"year\": 2083, \"population\": 37620.479, \"type\": \"instant replacement\"}, {\"year\": 2084, \"population\": 37664.504, \"type\": \"instant replacement\"}, {\"year\": 2085, \"population\": 37715.001000000004, \"type\": \"instant replacement\"}, {\"year\": 2086, \"population\": 37771.529, \"type\": \"instant replacement\"}, {\"year\": 2087, \"population\": 37833.545, \"type\": \"instant replacement\"}, {\"year\": 2088, \"population\": 37900.042, \"type\": \"instant replacement\"}, {\"year\": 2089, \"population\": 37969.878, \"type\": \"instant replacement\"}, {\"year\": 2090, \"population\": 38042.009, \"type\": \"instant replacement\"}, {\"year\": 2091, \"population\": 38115.687999999995, \"type\": \"instant replacement\"}, {\"year\": 2092, \"population\": 38190.32, \"type\": \"instant replacement\"}, {\"year\": 2093, \"population\": 38265.472, \"type\": \"instant replacement\"}, {\"year\": 2094, \"population\": 38340.708, \"type\": \"instant replacement\"}, {\"year\": 2095, \"population\": 38415.546, \"type\": \"instant replacement\"}, {\"year\": 2096, \"population\": 38489.372, \"type\": \"instant replacement\"}, {\"year\": 2097, \"population\": 38561.497, \"type\": \"instant replacement\"}, {\"year\": 2098, \"population\": 38631.062000000005, \"type\": \"instant replacement\"}, {\"year\": 2099, \"population\": 38697.127, \"type\": \"instant replacement\"}, {\"year\": 2100, \"population\": 38758.607, \"type\": \"instant replacement\"}, {\"year\": 2020, \"population\": 43733.759000000005, \"type\": \"momentum\"}, {\"year\": 2021, \"population\": 43564.349, \"type\": \"momentum\"}, {\"year\": 2022, \"population\": 43426.984000000004, \"type\": \"momentum\"}, {\"year\": 2023, \"population\": 43307.277, \"type\": \"momentum\"}, {\"year\": 2024, \"population\": 43184.02099999999, \"type\": \"momentum\"}, {\"year\": 2025, \"population\": 43041.75, \"type\": \"momentum\"}, {\"year\": 2026, \"population\": 42876.095, \"type\": \"momentum\"}, {\"year\": 2027, \"population\": 42691.437999999995, \"type\": \"momentum\"}, {\"year\": 2028, \"population\": 42491.592000000004, \"type\": \"momentum\"}, {\"year\": 2029, \"population\": 42283.458, \"type\": \"momentum\"}, {\"year\": 2030, \"population\": 42072.247, \"type\": \"momentum\"}, {\"year\": 2031, \"population\": 41858.474, \"type\": \"momentum\"}, {\"year\": 2032, \"population\": 41640.457, \"type\": \"momentum\"}, {\"year\": 2033, \"population\": 41418.808, \"type\": \"momentum\"}, {\"year\": 2034, \"population\": 41194.023, \"type\": \"momentum\"}, {\"year\": 2035, \"population\": 40966.628, \"type\": \"momentum\"}, {\"year\": 2036, \"population\": 40737.365, \"type\": \"momentum\"}, {\"year\": 2037, \"population\": 40507.062000000005, \"type\": \"momentum\"}, {\"year\": 2038, \"population\": 40276.466, \"type\": \"momentum\"}, {\"year\": 2039, \"population\": 40046.303, \"type\": \"momentum\"}, {\"year\": 2040, \"population\": 39817.289, \"type\": \"momentum\"}, {\"year\": 2041, \"population\": 39589.899, \"type\": \"momentum\"}, {\"year\": 2042, \"population\": 39364.75, \"type\": \"momentum\"}, {\"year\": 2043, \"population\": 39142.786, \"type\": \"momentum\"}, {\"year\": 2044, \"population\": 38925.109, \"type\": \"momentum\"}, {\"year\": 2045, \"population\": 38712.516, \"type\": \"momentum\"}, {\"year\": 2046, \"population\": 38505.458, \"type\": \"momentum\"}, {\"year\": 2047, \"population\": 38304.013, \"type\": \"momentum\"}, {\"year\": 2048, \"population\": 38108.092000000004, \"type\": \"momentum\"}, {\"year\": 2049, \"population\": 37917.43, \"type\": \"momentum\"}, {\"year\": 2050, \"population\": 37731.737, \"type\": \"momentum\"}, {\"year\": 2051, \"population\": 37551.122, \"type\": \"momentum\"}, {\"year\": 2052, \"population\": 37375.502, \"type\": \"momentum\"}, {\"year\": 2053, \"population\": 37204.328, \"type\": \"momentum\"}, {\"year\": 2054, \"population\": 37036.847, \"type\": \"momentum\"}, {\"year\": 2055, \"population\": 36872.468, \"type\": \"momentum\"}, {\"year\": 2056, \"population\": 36711.062000000005, \"type\": \"momentum\"}, {\"year\": 2057, \"population\": 36552.666, \"type\": \"momentum\"}, {\"year\": 2058, \"population\": 36397.117999999995, \"type\": \"momentum\"}, {\"year\": 2059, \"population\": 36244.265, \"type\": \"momentum\"}, {\"year\": 2060, \"population\": 36094.083, \"type\": \"momentum\"}, {\"year\": 2061, \"population\": 35946.635, \"type\": \"momentum\"}, {\"year\": 2062, \"population\": 35802.136, \"type\": \"momentum\"}, {\"year\": 2063, \"population\": 35660.873999999996, \"type\": \"momentum\"}, {\"year\": 2064, \"population\": 35523.201, \"type\": \"momentum\"}, {\"year\": 2065, \"population\": 35389.546, \"type\": \"momentum\"}, {\"year\": 2066, \"population\": 35260.12, \"type\": \"momentum\"}, {\"year\": 2067, \"population\": 35135.361000000004, \"type\": \"momentum\"}, {\"year\": 2068, \"population\": 35016.197, \"type\": \"momentum\"}, {\"year\": 2069, \"population\": 34903.785, \"type\": \"momentum\"}, {\"year\": 2070, \"population\": 34799.08, \"type\": \"momentum\"}, {\"year\": 2071, \"population\": 34702.347, \"type\": \"momentum\"}, {\"year\": 2072, \"population\": 34613.761, \"type\": \"momentum\"}, {\"year\": 2073, \"population\": 34533.851, \"type\": \"momentum\"}, {\"year\": 2074, \"population\": 34463.138, \"type\": \"momentum\"}, {\"year\": 2075, \"population\": 34401.949, \"type\": \"momentum\"}, {\"year\": 2076, \"population\": 34350.325, \"type\": \"momentum\"}, {\"year\": 2077, \"population\": 34308.011, \"type\": \"momentum\"}, {\"year\": 2078, \"population\": 34274.406, \"type\": \"momentum\"}, {\"year\": 2079, \"population\": 34248.685, \"type\": \"momentum\"}, {\"year\": 2080, \"population\": 34230.055, \"type\": \"momentum\"}, {\"year\": 2081, \"population\": 34218.098, \"type\": \"momentum\"}, {\"year\": 2082, \"population\": 34212.322, \"type\": \"momentum\"}, {\"year\": 2083, \"population\": 34211.652, \"type\": \"momentum\"}, {\"year\": 2084, \"population\": 34214.894, \"type\": \"momentum\"}, {\"year\": 2085, \"population\": 34220.945, \"type\": \"momentum\"}, {\"year\": 2086, \"population\": 34229.212999999996, \"type\": \"momentum\"}, {\"year\": 2087, \"population\": 34239.187000000005, \"type\": \"momentum\"}, {\"year\": 2088, \"population\": 34250.077000000005, \"type\": \"momentum\"}, {\"year\": 2089, \"population\": 34261.098, \"type\": \"momentum\"}, {\"year\": 2090, \"population\": 34271.613, \"type\": \"momentum\"}, {\"year\": 2091, \"population\": 34281.146, \"type\": \"momentum\"}, {\"year\": 2092, \"population\": 34289.391, \"type\": \"momentum\"}, {\"year\": 2093, \"population\": 34296.19, \"type\": \"momentum\"}, {\"year\": 2094, \"population\": 34301.449, \"type\": \"momentum\"}, {\"year\": 2095, \"population\": 34305.123, \"type\": \"momentum\"}, {\"year\": 2096, \"population\": 34307.181000000004, \"type\": \"momentum\"}, {\"year\": 2097, \"population\": 34307.621, \"type\": \"momentum\"}, {\"year\": 2098, \"population\": 34306.434, \"type\": \"momentum\"}, {\"year\": 2099, \"population\": 34303.648, \"type\": \"momentum\"}, {\"year\": 2100, \"population\": 34299.293, \"type\": \"momentum\"}, {\"year\": 2020, \"population\": 43733.759000000005, \"type\": \"zero migration\"}, {\"year\": 2021, \"population\": 43460.492999999995, \"type\": \"zero migration\"}, {\"year\": 2022, \"population\": 43181.379, \"type\": \"zero migration\"}, {\"year\": 2023, \"population\": 42897.282, \"type\": \"zero migration\"}, {\"year\": 2024, \"population\": 42609.04, \"type\": \"zero migration\"}, {\"year\": 2025, \"population\": 42317.435, \"type\": \"zero migration\"}, {\"year\": 2026, \"population\": 42023.349, \"type\": \"zero migration\"}, {\"year\": 2027, \"population\": 41727.587, \"type\": \"zero migration\"}, {\"year\": 2028, \"population\": 41430.964, \"type\": \"zero migration\"}, {\"year\": 2029, \"population\": 41134.252, \"type\": \"zero migration\"}, {\"year\": 2030, \"population\": 40838.134, \"type\": \"zero migration\"}, {\"year\": 2031, \"population\": 40543.121, \"type\": \"zero migration\"}, {\"year\": 2032, \"population\": 40249.542, \"type\": \"zero migration\"}, {\"year\": 2033, \"population\": 39957.451, \"type\": \"zero migration\"}, {\"year\": 2034, \"population\": 39666.738, \"type\": \"zero migration\"}, {\"year\": 2035, \"population\": 39377.32, \"type\": \"zero migration\"}, {\"year\": 2036, \"population\": 39089.33, \"type\": \"zero migration\"}, {\"year\": 2037, \"population\": 38802.867999999995, \"type\": \"zero migration\"}, {\"year\": 2038, \"population\": 38517.895, \"type\": \"zero migration\"}, {\"year\": 2039, \"population\": 38234.233, \"type\": \"zero migration\"}, {\"year\": 2040, \"population\": 37951.765, \"type\": \"zero migration\"}, {\"year\": 2041, \"population\": 37670.431000000004, \"type\": \"zero migration\"}, {\"year\": 2042, \"population\": 37390.174, \"type\": \"zero migration\"}, {\"year\": 2043, \"population\": 37110.785, \"type\": \"zero migration\"}, {\"year\": 2044, \"population\": 36832.076, \"type\": \"zero migration\"}, {\"year\": 2045, \"population\": 36553.809, \"type\": \"zero migration\"}, {\"year\": 2046, \"population\": 36275.903, \"type\": \"zero migration\"}, {\"year\": 2047, \"population\": 35998.262, \"type\": \"zero migration\"}, {\"year\": 2048, \"population\": 35720.725, \"type\": \"zero migration\"}, {\"year\": 2049, \"population\": 35443.144, \"type\": \"zero migration\"}, {\"year\": 2050, \"population\": 35165.373, \"type\": \"zero migration\"}, {\"year\": 2051, \"population\": 34887.401, \"type\": \"zero migration\"}, {\"year\": 2052, \"population\": 34609.192, \"type\": \"zero migration\"}, {\"year\": 2053, \"population\": 34330.587, \"type\": \"zero migration\"}, {\"year\": 2054, \"population\": 34051.416, \"type\": \"zero migration\"}, {\"year\": 2055, \"population\": 33771.574, \"type\": \"zero migration\"}, {\"year\": 2056, \"population\": 33491.128, \"type\": \"zero migration\"}, {\"year\": 2057, \"population\": 33210.261, \"type\": \"zero migration\"}, {\"year\": 2058, \"population\": 32929.219, \"type\": \"zero migration\"}, {\"year\": 2059, \"population\": 32648.342, \"type\": \"zero migration\"}, {\"year\": 2060, \"population\": 32367.95, \"type\": \"zero migration\"}, {\"year\": 2061, \"population\": 32088.322999999997, \"type\": \"zero migration\"}, {\"year\": 2062, \"population\": 31809.717999999997, \"type\": \"zero migration\"}, {\"year\": 2063, \"population\": 31532.584, \"type\": \"zero migration\"}, {\"year\": 2064, \"population\": 31257.412999999997, \"type\": \"zero migration\"}, {\"year\": 2065, \"population\": 30984.695, \"type\": \"zero migration\"}, {\"year\": 2066, \"population\": 30714.754, \"type\": \"zero migration\"}, {\"year\": 2067, \"population\": 30447.958, \"type\": \"zero migration\"}, {\"year\": 2068, \"population\": 30184.808999999997, \"type\": \"zero migration\"}, {\"year\": 2069, \"population\": 29925.869, \"type\": \"zero migration\"}, {\"year\": 2070, \"population\": 29671.624, \"type\": \"zero migration\"}, {\"year\": 2071, \"population\": 29422.379, \"type\": \"zero migration\"}, {\"year\": 2072, \"population\": 29178.391, \"type\": \"zero migration\"}, {\"year\": 2073, \"population\": 28940.034, \"type\": \"zero migration\"}, {\"year\": 2074, \"population\": 28707.7, \"type\": \"zero migration\"}, {\"year\": 2075, \"population\": 28481.673, \"type\": \"zero migration\"}, {\"year\": 2076, \"population\": 28262.08, \"type\": \"zero migration\"}, {\"year\": 2077, \"population\": 28048.972999999998, \"type\": \"zero migration\"}, {\"year\": 2078, \"population\": 27842.392999999996, \"type\": \"zero migration\"}, {\"year\": 2079, \"population\": 27642.356, \"type\": \"zero migration\"}, {\"year\": 2080, \"population\": 27448.792999999998, \"type\": \"zero migration\"}, {\"year\": 2081, \"population\": 27261.599, \"type\": \"zero migration\"}, {\"year\": 2082, \"population\": 27080.577, \"type\": \"zero migration\"}, {\"year\": 2083, \"population\": 26905.315, \"type\": \"zero migration\"}, {\"year\": 2084, \"population\": 26735.295, \"type\": \"zero migration\"}, {\"year\": 2085, \"population\": 26570.037999999997, \"type\": \"zero migration\"}, {\"year\": 2086, \"population\": 26409.246, \"type\": \"zero migration\"}, {\"year\": 2087, \"population\": 26252.562, \"type\": \"zero migration\"}, {\"year\": 2088, \"population\": 26099.388, \"type\": \"zero migration\"}, {\"year\": 2089, \"population\": 25949.001, \"type\": \"zero migration\"}, {\"year\": 2090, \"population\": 25800.773999999998, \"type\": \"zero migration\"}, {\"year\": 2091, \"population\": 25654.251, \"type\": \"zero migration\"}, {\"year\": 2092, \"population\": 25509.144, \"type\": \"zero migration\"}, {\"year\": 2093, \"population\": 25365.18, \"type\": \"zero migration\"}, {\"year\": 2094, \"population\": 25222.174, \"type\": \"zero migration\"}, {\"year\": 2095, \"population\": 25079.87, \"type\": \"zero migration\"}, {\"year\": 2096, \"population\": 24937.991, \"type\": \"zero migration\"}, {\"year\": 2097, \"population\": 24796.171000000002, \"type\": \"zero migration\"}, {\"year\": 2098, \"population\": 24654.012000000002, \"type\": \"zero migration\"}, {\"year\": 2099, \"population\": 24511.045, \"type\": \"zero migration\"}, {\"year\": 2100, \"population\": 24366.738999999998, \"type\": \"zero migration\"}, {\"year\": 2020, \"population\": 43733.759000000005, \"type\": \"constant mortality\"}, {\"year\": 2021, \"population\": 43447.755, \"type\": \"constant mortality\"}, {\"year\": 2022, \"population\": 43151.887, \"type\": \"constant mortality\"}, {\"year\": 2023, \"population\": 42847.205, \"type\": \"constant mortality\"}, {\"year\": 2024, \"population\": 42534.717000000004, \"type\": \"constant mortality\"}, {\"year\": 2025, \"population\": 42215.297, \"type\": \"constant mortality\"}, {\"year\": 2026, \"population\": 41889.807, \"type\": \"constant mortality\"}, {\"year\": 2027, \"population\": 41558.972, \"type\": \"constant mortality\"}, {\"year\": 2028, \"population\": 41223.482, \"type\": \"constant mortality\"}, {\"year\": 2029, \"population\": 40883.951, \"type\": \"constant mortality\"}, {\"year\": 2030, \"population\": 40540.982, \"type\": \"constant mortality\"}, {\"year\": 2031, \"population\": 40195.102999999996, \"type\": \"constant mortality\"}, {\"year\": 2032, \"population\": 39846.865, \"type\": \"constant mortality\"}, {\"year\": 2033, \"population\": 39496.822, \"type\": \"constant mortality\"}, {\"year\": 2034, \"population\": 39145.543, \"type\": \"constant mortality\"}, {\"year\": 2035, \"population\": 38793.442, \"type\": \"constant mortality\"}, {\"year\": 2036, \"population\": 38440.951, \"type\": \"constant mortality\"}, {\"year\": 2037, \"population\": 38088.291, \"type\": \"constant mortality\"}, {\"year\": 2038, \"population\": 37735.562000000005, \"type\": \"constant mortality\"}, {\"year\": 2039, \"population\": 37382.76, \"type\": \"constant mortality\"}, {\"year\": 2040, \"population\": 37029.905, \"type\": \"constant mortality\"}, {\"year\": 2041, \"population\": 36677.085, \"type\": \"constant mortality\"}, {\"year\": 2042, \"population\": 36324.477999999996, \"type\": \"constant mortality\"}, {\"year\": 2043, \"population\": 35972.115, \"type\": \"constant mortality\"}, {\"year\": 2044, \"population\": 35620.05, \"type\": \"constant mortality\"}, {\"year\": 2045, \"population\": 35268.297999999995, \"type\": \"constant mortality\"}, {\"year\": 2046, \"population\": 34916.925, \"type\": \"constant mortality\"}, {\"year\": 2047, \"population\": 34565.922, \"type\": \"constant mortality\"}, {\"year\": 2048, \"population\": 34215.066, \"type\": \"constant mortality\"}, {\"year\": 2049, \"population\": 33864.054, \"type\": \"constant mortality\"}, {\"year\": 2050, \"population\": 33512.682, \"type\": \"constant mortality\"}, {\"year\": 2051, \"population\": 33161.03, \"type\": \"constant mortality\"}, {\"year\": 2052, \"population\": 32809.181000000004, \"type\": \"constant mortality\"}, {\"year\": 2053, \"population\": 32457.07, \"type\": \"constant mortality\"}, {\"year\": 2054, \"population\": 32104.561, \"type\": \"constant mortality\"}, {\"year\": 2055, \"population\": 31751.652000000002, \"type\": \"constant mortality\"}, {\"year\": 2056, \"population\": 31398.53, \"type\": \"constant mortality\"}, {\"year\": 2057, \"population\": 31045.554, \"type\": \"constant mortality\"}, {\"year\": 2058, \"population\": 30693.215, \"type\": \"constant mortality\"}, {\"year\": 2059, \"population\": 30342.092999999997, \"type\": \"constant mortality\"}, {\"year\": 2060, \"population\": 29992.787999999997, \"type\": \"constant mortality\"}, {\"year\": 2061, \"population\": 29645.702, \"type\": \"constant mortality\"}, {\"year\": 2062, \"population\": 29301.333, \"type\": \"constant mortality\"}, {\"year\": 2063, \"population\": 28960.499, \"type\": \"constant mortality\"}, {\"year\": 2064, \"population\": 28624.129, \"type\": \"constant mortality\"}, {\"year\": 2065, \"population\": 28293.052000000003, \"type\": \"constant mortality\"}, {\"year\": 2066, \"population\": 27967.717, \"type\": \"constant mortality\"}, {\"year\": 2067, \"population\": 27648.552000000003, \"type\": \"constant mortality\"}, {\"year\": 2068, \"population\": 27336.283, \"type\": \"constant mortality\"}, {\"year\": 2069, \"population\": 27031.737, \"type\": \"constant mortality\"}, {\"year\": 2070, \"population\": 26735.501, \"type\": \"constant mortality\"}, {\"year\": 2071, \"population\": 26447.869, \"type\": \"constant mortality\"}, {\"year\": 2072, \"population\": 26168.91, \"type\": \"constant mortality\"}, {\"year\": 2073, \"population\": 25898.667, \"type\": \"constant mortality\"}, {\"year\": 2074, \"population\": 25637.115, \"type\": \"constant mortality\"}, {\"year\": 2075, \"population\": 25384.087000000003, \"type\": \"constant mortality\"}, {\"year\": 2076, \"population\": 25139.507999999998, \"type\": \"constant mortality\"}, {\"year\": 2077, \"population\": 24903.103, \"type\": \"constant mortality\"}, {\"year\": 2078, \"population\": 24674.275, \"type\": \"constant mortality\"}, {\"year\": 2079, \"population\": 24452.248, \"type\": \"constant mortality\"}, {\"year\": 2080, \"population\": 24236.28, \"type\": \"constant mortality\"}, {\"year\": 2081, \"population\": 24026.03, \"type\": \"constant mortality\"}, {\"year\": 2082, \"population\": 23821.081000000002, \"type\": \"constant mortality\"}, {\"year\": 2083, \"population\": 23620.577, \"type\": \"constant mortality\"}, {\"year\": 2084, \"population\": 23423.487, \"type\": \"constant mortality\"}, {\"year\": 2085, \"population\": 23228.982999999997, \"type\": \"constant mortality\"}, {\"year\": 2086, \"population\": 23036.667999999998, \"type\": \"constant mortality\"}, {\"year\": 2087, \"population\": 22846.292, \"type\": \"constant mortality\"}, {\"year\": 2088, \"population\": 22657.55, \"type\": \"constant mortality\"}, {\"year\": 2089, \"population\": 22470.227000000003, \"type\": \"constant mortality\"}, {\"year\": 2090, \"population\": 22284.126, \"type\": \"constant mortality\"}, {\"year\": 2091, \"population\": 22099.199, \"type\": \"constant mortality\"}, {\"year\": 2092, \"population\": 21915.425, \"type\": \"constant mortality\"}, {\"year\": 2093, \"population\": 21732.906000000003, \"type\": \"constant mortality\"}, {\"year\": 2094, \"population\": 21551.785, \"type\": \"constant mortality\"}, {\"year\": 2095, \"population\": 21372.297000000002, \"type\": \"constant mortality\"}, {\"year\": 2096, \"population\": 21194.75, \"type\": \"constant mortality\"}, {\"year\": 2097, \"population\": 21019.542999999998, \"type\": \"constant mortality\"}, {\"year\": 2098, \"population\": 20847.148999999998, \"type\": \"constant mortality\"}, {\"year\": 2099, \"population\": 20678.12, \"type\": \"constant mortality\"}, {\"year\": 2100, \"population\": 20513.055, \"type\": \"constant mortality\"}, {\"year\": 2020, \"population\": 43733.759000000005, \"type\": \"no change\"}, {\"year\": 2021, \"population\": 43452.325, \"type\": \"no change\"}, {\"year\": 2022, \"population\": 43159.825999999994, \"type\": \"no change\"}, {\"year\": 2023, \"population\": 42857.325999999994, \"type\": \"no change\"}, {\"year\": 2024, \"population\": 42545.695999999996, \"type\": \"no change\"}, {\"year\": 2025, \"population\": 42225.812000000005, \"type\": \"no change\"}, {\"year\": 2026, \"population\": 41898.367, \"type\": \"no change\"}, {\"year\": 2027, \"population\": 41564.0, \"type\": \"no change\"}, {\"year\": 2028, \"population\": 41223.222, \"type\": \"no change\"}, {\"year\": 2029, \"population\": 40876.497, \"type\": \"no change\"}, {\"year\": 2030, \"population\": 40524.285, \"type\": \"no change\"}, {\"year\": 2031, \"population\": 40167.064, \"type\": \"no change\"}, {\"year\": 2032, \"population\": 39805.437000000005, \"type\": \"no change\"}, {\"year\": 2033, \"population\": 39440.125, \"type\": \"no change\"}, {\"year\": 2034, \"population\": 39071.916, \"type\": \"no change\"}, {\"year\": 2035, \"population\": 38701.435, \"type\": \"no change\"}, {\"year\": 2036, \"population\": 38329.186, \"type\": \"no change\"}, {\"year\": 2037, \"population\": 37955.415, \"type\": \"no change\"}, {\"year\": 2038, \"population\": 37580.286, \"type\": \"no change\"}, {\"year\": 2039, \"population\": 37203.837999999996, \"type\": \"no change\"}, {\"year\": 2040, \"population\": 36826.192, \"type\": \"no change\"}, {\"year\": 2041, \"population\": 36447.477999999996, \"type\": \"no change\"}, {\"year\": 2042, \"population\": 36067.955, \"type\": \"no change\"}, {\"year\": 2043, \"population\": 35687.756, \"type\": \"no change\"}, {\"year\": 2044, \"population\": 35307.056000000004, \"type\": \"no change\"}, {\"year\": 2045, \"population\": 34925.957, \"type\": \"no change\"}, {\"year\": 2046, \"population\": 34544.562999999995, \"type\": \"no change\"}, {\"year\": 2047, \"population\": 34162.916, \"type\": \"no change\"}, {\"year\": 2048, \"population\": 33780.858, \"type\": \"no change\"}, {\"year\": 2049, \"population\": 33398.146, \"type\": \"no change\"}, {\"year\": 2050, \"population\": 33014.622, \"type\": \"no change\"}, {\"year\": 2051, \"population\": 32630.357000000004, \"type\": \"no change\"}, {\"year\": 2052, \"population\": 32245.474, \"type\": \"no change\"}, {\"year\": 2053, \"population\": 31859.855, \"type\": \"no change\"}, {\"year\": 2054, \"population\": 31473.315, \"type\": \"no change\"}, {\"year\": 2055, \"population\": 31085.842999999997, \"type\": \"no change\"}, {\"year\": 2056, \"population\": 30697.577999999998, \"type\": \"no change\"}, {\"year\": 2057, \"population\": 30308.873, \"type\": \"no change\"}, {\"year\": 2058, \"population\": 29920.071, \"type\": \"no change\"}, {\"year\": 2059, \"population\": 29531.652000000002, \"type\": \"no change\"}, {\"year\": 2060, \"population\": 29144.097, \"type\": \"no change\"}, {\"year\": 2061, \"population\": 28757.772, \"type\": \"no change\"}, {\"year\": 2062, \"population\": 28373.146, \"type\": \"no change\"}, {\"year\": 2063, \"population\": 27991.025, \"type\": \"no change\"}, {\"year\": 2064, \"population\": 27612.334, \"type\": \"no change\"}, {\"year\": 2065, \"population\": 27237.876, \"type\": \"no change\"}, {\"year\": 2066, \"population\": 26868.111, \"type\": \"no change\"}, {\"year\": 2067, \"population\": 26503.457000000002, \"type\": \"no change\"}, {\"year\": 2068, \"population\": 26144.692000000003, \"type\": \"no change\"}, {\"year\": 2069, \"population\": 25792.613999999998, \"type\": \"no change\"}, {\"year\": 2070, \"population\": 25447.867000000002, \"type\": \"no change\"}, {\"year\": 2071, \"population\": 25110.74, \"type\": \"no change\"}, {\"year\": 2072, \"population\": 24781.385, \"type\": \"no change\"}, {\"year\": 2073, \"population\": 24459.951, \"type\": \"no change\"}, {\"year\": 2074, \"population\": 24146.56, \"type\": \"no change\"}, {\"year\": 2075, \"population\": 23841.167, \"type\": \"no change\"}, {\"year\": 2076, \"population\": 23543.77, \"type\": \"no change\"}, {\"year\": 2077, \"population\": 23254.127999999997, \"type\": \"no change\"}, {\"year\": 2078, \"population\": 22971.691000000003, \"type\": \"no change\"}, {\"year\": 2079, \"population\": 22695.717, \"type\": \"no change\"}, {\"year\": 2080, \"population\": 22425.502, \"type\": \"no change\"}, {\"year\": 2081, \"population\": 22160.755, \"type\": \"no change\"}, {\"year\": 2082, \"population\": 21901.105, \"type\": \"no change\"}, {\"year\": 2083, \"population\": 21645.736, \"type\": \"no change\"}, {\"year\": 2084, \"population\": 21393.732999999997, \"type\": \"no change\"}, {\"year\": 2085, \"population\": 21144.327999999998, \"type\": \"no change\"}, {\"year\": 2086, \"population\": 20897.134, \"type\": \"no change\"}, {\"year\": 2087, \"population\": 20651.942, \"type\": \"no change\"}, {\"year\": 2088, \"population\": 20408.392, \"type\": \"no change\"}, {\"year\": 2089, \"population\": 20166.165, \"type\": \"no change\"}, {\"year\": 2090, \"population\": 19925.064, \"type\": \"no change\"}, {\"year\": 2091, \"population\": 19685.001, \"type\": \"no change\"}, {\"year\": 2092, \"population\": 19445.985, \"type\": \"no change\"}, {\"year\": 2093, \"population\": 19208.136000000002, \"type\": \"no change\"}, {\"year\": 2094, \"population\": 18971.657, \"type\": \"no change\"}, {\"year\": 2095, \"population\": 18736.814, \"type\": \"no change\"}, {\"year\": 2096, \"population\": 18503.92, \"type\": \"no change\"}, {\"year\": 2097, \"population\": 18273.377, \"type\": \"no change\"}, {\"year\": 2098, \"population\": 18045.583, \"type\": \"no change\"}, {\"year\": 2099, \"population\": 17821.078, \"type\": \"no change\"}, {\"year\": 2100, \"population\": 17600.38, \"type\": \"no change\"}]}};\n",
              "      var embedOpt = {\"mode\": \"vega-lite\"};\n",
              "\n",
              "      function showError(el, error){\n",
              "          el.innerHTML = ('<div class=\"error\" style=\"color:red;\">'\n",
              "                          + '<p>JavaScript Error: ' + error.message + '</p>'\n",
              "                          + \"<p>This usually means there's a typo in your chart specification. \"\n",
              "                          + \"See the javascript console for the full traceback.</p>\"\n",
              "                          + '</div>');\n",
              "          throw error;\n",
              "      }\n",
              "      const el = document.getElementById('altair-viz');\n",
              "      vegaEmbed(\"#altair-viz\", spec, embedOpt)\n",
              "        .catch(error => showError(el, error));\n",
              "    })(vegaEmbed);\n",
              "\n",
              "  </script>\n",
              "</body>\n",
              "</html>"
            ]
          },
          "metadata": {
            "tags": []
          },
          "execution_count": 23
        }
      ]
    },
    {
      "cell_type": "code",
      "metadata": {
        "id": "VSUfFtxwy3rI",
        "colab_type": "code",
        "colab": {}
      },
      "source": [
        ""
      ],
      "execution_count": 0,
      "outputs": []
    },
    {
      "cell_type": "code",
      "metadata": {
        "id": "bTmcFDbCy3rK",
        "colab_type": "code",
        "colab": {}
      },
      "source": [
        ""
      ],
      "execution_count": 0,
      "outputs": []
    },
    {
      "cell_type": "code",
      "metadata": {
        "id": "qaFjrtoMy3rM",
        "colab_type": "code",
        "colab": {}
      },
      "source": [
        ""
      ],
      "execution_count": 0,
      "outputs": []
    },
    {
      "cell_type": "code",
      "metadata": {
        "id": "UbR673xCy3rO",
        "colab_type": "code",
        "colab": {}
      },
      "source": [
        ""
      ],
      "execution_count": 0,
      "outputs": []
    },
    {
      "cell_type": "code",
      "metadata": {
        "id": "8B7t9JfMy3rP",
        "colab_type": "code",
        "colab": {}
      },
      "source": [
        ""
      ],
      "execution_count": 0,
      "outputs": []
    },
    {
      "cell_type": "code",
      "metadata": {
        "id": "VcdznOvUy3rS",
        "colab_type": "code",
        "colab": {}
      },
      "source": [
        ""
      ],
      "execution_count": 0,
      "outputs": []
    },
    {
      "cell_type": "code",
      "metadata": {
        "id": "tbg2EKVNy3rT",
        "colab_type": "code",
        "colab": {}
      },
      "source": [
        ""
      ],
      "execution_count": 0,
      "outputs": []
    },
    {
      "cell_type": "code",
      "metadata": {
        "id": "xtDLRoMKy3rV",
        "colab_type": "code",
        "colab": {}
      },
      "source": [
        ""
      ],
      "execution_count": 0,
      "outputs": []
    }
  ]
}